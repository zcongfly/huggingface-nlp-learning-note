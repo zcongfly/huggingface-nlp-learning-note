{
  "cells": [
    {
      "cell_type": "markdown",
      "metadata": {
        "id": "view-in-github",
        "colab_type": "text"
      },
      "source": [
        "<a href=\"https://colab.research.google.com/github/zcongfly/huggingface-nlp-learning-note/blob/main/06_Putting_it_all_together_(PyTorch).ipynb\" target=\"_parent\"><img src=\"https://colab.research.google.com/assets/colab-badge.svg\" alt=\"Open In Colab\"/></a>"
      ]
    },
    {
      "cell_type": "markdown",
      "metadata": {
        "id": "5rTU5CCpBpmT"
      },
      "source": [
        "# Putting it all together (PyTorch)"
      ]
    },
    {
      "cell_type": "code",
      "execution_count": null,
      "metadata": {
        "id": "lrg-FMLcBpmX"
      },
      "outputs": [],
      "source": [
        "# Install the Transformers, Datasets, and Evaluate libraries to run this notebook.\n",
        "!pip install datasets evaluate transformers[sentencepiece]"
      ]
    },
    {
      "cell_type": "markdown",
      "metadata": {
        "id": "oB0WChhtBpmV"
      },
      "source": [
        "在最后几节中，我们一直在尽最大努力手工完成大部分工作。我们探索了分词器的工作原理，并研究了分词、转换为输入 ID、填充、截断和注意掩码。\n",
        "\n",
        "然而，正如我们在第 2 节中看到的，Transformers API 可以使用我们将在此处深入研究的高级函数为我们处理所有这些。当你直接在句子上调用你的 tokenizer 时，你会得到准备好通过你的模型的输入："
      ]
    },
    {
      "cell_type": "code",
      "source": [
        "from transformers import AutoTokenizer\n",
        "\n",
        "checkpoint=\"bert-base-chinese\"\n",
        "tokenizer=AutoTokenizer.from_pretrained(checkpoint)\n",
        "\n",
        "sequences=[\n",
        "    \"我欲穿花寻路，误入白云深处。\",\n",
        "    \"为中华之崛起而读书！\"\n",
        "]\n",
        "\n",
        "model_inputs=tokenizer(sequences)\n",
        "print(model_inputs)"
      ],
      "metadata": {
        "id": "VHCS3YaCKMzm",
        "outputId": "dcb53bfe-d265-4b76-ae2f-e85eec9c1e74",
        "colab": {
          "base_uri": "https://localhost:8080/"
        }
      },
      "execution_count": null,
      "outputs": [
        {
          "output_type": "stream",
          "name": "stdout",
          "text": [
            "{'input_ids': [[101, 2769, 3617, 4959, 5709, 2192, 6662, 8024, 6428, 1057, 4635, 756, 3918, 1905, 511, 102], [101, 711, 704, 1290, 722, 2307, 6629, 5445, 6438, 741, 8013, 102]], 'token_type_ids': [[0, 0, 0, 0, 0, 0, 0, 0, 0, 0, 0, 0, 0, 0, 0, 0], [0, 0, 0, 0, 0, 0, 0, 0, 0, 0, 0, 0]], 'attention_mask': [[1, 1, 1, 1, 1, 1, 1, 1, 1, 1, 1, 1, 1, 1, 1, 1], [1, 1, 1, 1, 1, 1, 1, 1, 1, 1, 1, 1]]}\n"
          ]
        }
      ]
    },
    {
      "cell_type": "code",
      "execution_count": null,
      "metadata": {
        "id": "gtjoKlEGBpmY",
        "outputId": "cccc0d41-8512-449d-f3cf-6412533873df",
        "colab": {
          "base_uri": "https://localhost:8080/"
        }
      },
      "outputs": [
        {
          "output_type": "stream",
          "name": "stdout",
          "text": [
            "{'input_ids': [101, 1045, 1005, 2310, 2042, 3403, 2005, 1037, 17662, 12172, 2607, 2026, 2878, 2166, 1012, 102], 'attention_mask': [1, 1, 1, 1, 1, 1, 1, 1, 1, 1, 1, 1, 1, 1, 1, 1]}\n"
          ]
        }
      ],
      "source": [
        "from transformers import AutoTokenizer\n",
        "\n",
        "checkpoint = \"distilbert-base-uncased-finetuned-sst-2-english\"\n",
        "tokenizer = AutoTokenizer.from_pretrained(checkpoint)\n",
        "\n",
        "sequence = \"I've been waiting for a HuggingFace course my whole life.\"\n",
        "\n",
        "model_inputs = tokenizer(sequence)\n",
        "print(model_inputs)"
      ]
    },
    {
      "cell_type": "markdown",
      "source": [
        "在这里， model_inputs 变量包含模型正常运行所需的一切。对于 DistilBERT，这包括输入 ID 和注意力掩码。接受额外输入的其他模型也将具有 tokenizer 对象的输出。\n",
        "\n",
        "正如我们将在下面的一些示例中看到的，这种方法非常强大。首先，它可以标记单个序列："
      ],
      "metadata": {
        "id": "l9NEdKqgLY7f"
      }
    },
    {
      "cell_type": "code",
      "execution_count": null,
      "metadata": {
        "id": "jjuZGeLzBpma"
      },
      "outputs": [],
      "source": [
        "sequence = \"I've been waiting for a HuggingFace course my whole life.\"\n",
        "\n",
        "model_inputs = tokenizer(sequence)"
      ]
    },
    {
      "cell_type": "markdown",
      "source": [
        "它还一次处理多个序列，API 没有变化："
      ],
      "metadata": {
        "id": "jZnp89jOMWWl"
      }
    },
    {
      "cell_type": "code",
      "execution_count": null,
      "metadata": {
        "id": "xFigcEV-Bpmb"
      },
      "outputs": [],
      "source": [
        "sequences = [\"I've been waiting for a HuggingFace course my whole life.\", \"So have I!\"]\n",
        "\n",
        "model_inputs = tokenizer(sequences)"
      ]
    },
    {
      "cell_type": "markdown",
      "source": [
        "它可以根据几个目标进行填充："
      ],
      "metadata": {
        "id": "g2AFB3fLMY23"
      }
    },
    {
      "cell_type": "code",
      "execution_count": null,
      "metadata": {
        "id": "Zm_swDlcBpmc"
      },
      "outputs": [],
      "source": [
        "# Will pad the sequences up to the maximum sequence length\n",
        "model_inputs = tokenizer(sequences, padding=\"longest\")\n",
        "\n",
        "# Will pad the sequences up to the model max length\n",
        "# (512 for BERT or DistilBERT)\n",
        "model_inputs = tokenizer(sequences, padding=\"max_length\")\n",
        "\n",
        "# Will pad the sequences up to the specified max length\n",
        "model_inputs = tokenizer(sequences, padding=\"max_length\", max_length=8)"
      ]
    },
    {
      "cell_type": "markdown",
      "source": [
        "它还可以截断序列："
      ],
      "metadata": {
        "id": "3RFPMqrXNJ_4"
      }
    },
    {
      "cell_type": "code",
      "source": [
        "sequences = [\"I've been waiting for a HuggingFace course my whole life.\", \"So have I!\"]\n",
        "\n",
        "# Will truncate the sequences that are longer than the model max length\n",
        "# (512 for BERT or DistilBERT)\n",
        "model_inputs = tokenizer(sequences, truncation=True)\n",
        "\n",
        "# Will truncate the sequences that are longer than the specified max length\n",
        "model_inputs = tokenizer(sequences, max_length=8, truncation=True)"
      ],
      "metadata": {
        "id": "ieZ8BsMyNo6R"
      },
      "execution_count": null,
      "outputs": []
    },
    {
      "cell_type": "markdown",
      "source": [
        "tokenizer 对象可以处理到特定框架张量的转换，然后可以将其直接发送到模型。例如，在下面的代码示例中，我们提示分词器从不同的框架返回张量—— \"pt\" 返回 PyTorch 张量， \"tf\" 返回 TensorFlow 张量， \"np\" 返回 NumPy 数组："
      ],
      "metadata": {
        "id": "Vyn9-3gOBpmc"
      }
    },
    {
      "cell_type": "code",
      "source": [
        "sequences = [\"I've been waiting for a HuggingFace course my whole life.\", \"So have I!\"]\n",
        "\n",
        "# Returns PyTorch tensors\n",
        "model_inputs = tokenizer(sequences, padding=True, return_tensors=\"pt\")\n",
        "\n",
        "# Returns TensorFlow tensors\n",
        "model_inputs = tokenizer(sequences, padding=True, return_tensors=\"tf\")\n",
        "\n",
        "# Returns NumPy arrays\n",
        "model_inputs = tokenizer(sequences, padding=True, return_tensors=\"np\")"
      ],
      "metadata": {
        "id": "tSVHk56TNn6O"
      },
      "execution_count": null,
      "outputs": []
    },
    {
      "cell_type": "markdown",
      "source": [
        "## Special tokens\n",
        "\n",
        "如果我们看一下分词器返回的输入 ID，我们会发现它们与之前的稍有不同："
      ],
      "metadata": {
        "id": "GYHop0_6OP8r"
      }
    },
    {
      "cell_type": "code",
      "execution_count": null,
      "metadata": {
        "id": "cV3kR9aqBpmf",
        "outputId": "53cd2a49-c2a6-4968-b92d-32be0b90d703",
        "colab": {
          "base_uri": "https://localhost:8080/"
        }
      },
      "outputs": [
        {
          "output_type": "stream",
          "name": "stdout",
          "text": [
            "[101, 1045, 1005, 2310, 2042, 3403, 2005, 1037, 17662, 12172, 2607, 2026, 2878, 2166, 1012, 102]\n",
            "[1045, 1005, 2310, 2042, 3403, 2005, 1037, 17662, 12172, 2607, 2026, 2878, 2166, 1012]\n"
          ]
        }
      ],
      "source": [
        "sequence = \"I've been waiting for a HuggingFace course my whole life.\"\n",
        "\n",
        "model_inputs = tokenizer(sequence)\n",
        "print(model_inputs[\"input_ids\"])\n",
        "\n",
        "tokens = tokenizer.tokenize(sequence)\n",
        "ids = tokenizer.convert_tokens_to_ids(tokens)\n",
        "print(ids)"
      ]
    },
    {
      "cell_type": "markdown",
      "source": [
        "开头加一个token ID，最后加一个。让我们解码上面的两个 ID 序列，看看这是关于什么的："
      ],
      "metadata": {
        "id": "OImPIfzwPQJQ"
      }
    },
    {
      "cell_type": "code",
      "execution_count": null,
      "metadata": {
        "id": "RPL25cb2Bpmg",
        "outputId": "d426336e-7650-4f5b-b6d9-56219fa58a86",
        "colab": {
          "base_uri": "https://localhost:8080/"
        }
      },
      "outputs": [
        {
          "output_type": "stream",
          "name": "stdout",
          "text": [
            "[CLS] i've been waiting for a huggingface course my whole life. [SEP]\n",
            "i've been waiting for a huggingface course my whole life.\n"
          ]
        }
      ],
      "source": [
        "print(tokenizer.decode(model_inputs[\"input_ids\"]))\n",
        "print(tokenizer.decode(ids))"
      ]
    },
    {
      "cell_type": "markdown",
      "source": [
        "分词器在开头添加了特殊词 [CLS] ，在末尾添加了特殊词 [SEP] 。这是因为模型是使用这些进行预训练的，因此为了获得相同的推理结果，我们还需要添加它们。请注意，某些模型不添加特殊词，或添加不同的词；模型也可以只在开头或结尾添加这些特殊词。在任何情况下，分词器都知道哪些是预期的，并会为您处理。"
      ],
      "metadata": {
        "id": "q3UC6W0sPcdv"
      }
    },
    {
      "cell_type": "markdown",
      "source": [
        "## 总结：从分词器到模型\n",
        "\n",
        "现在我们已经了解了 tokenizer 对象在应用于文本时使用的所有单独步骤，让我们最后一次看看它如何处理多个序列（填充！）、非常长的序列（截断！）和多种类型的张量及其主要 API："
      ],
      "metadata": {
        "id": "cicDc_HhPjAY"
      }
    },
    {
      "cell_type": "code",
      "source": [
        "import torch\n",
        "from transformers import AutoTokenizer,AutoModelForSequenceClassification\n",
        "\n",
        "checkpoint=\"bert-base-chinese\"\n",
        "tokenizer=AutoTokenizer.from_pretrained(checkpoint)\n",
        "model=AutoModelForSequenceClassification.from_pretrained(checkpoint)\n",
        "sequences=[\n",
        "    \"我欲穿花寻路，误入白云深处。\",\n",
        "    \"为中华之崛起而读书！\",\n",
        "    \"这件事让我感到无法接受。\"\n",
        "]\n",
        "\n",
        "tokens=tokenizer(sequences,padding=True,truncation=True,return_tensors=\"pt\")\n",
        "output=model(**tokens)\n",
        "\n",
        "print(output.logits)\n",
        "\n",
        "results=torch.nn.functional.softmax(output.logits)\n",
        "print(results)"
      ],
      "metadata": {
        "id": "PxD0sQHzPt4Z",
        "outputId": "e6f5f1e7-5ffe-4c5b-bcae-40e72814d6c7",
        "colab": {
          "base_uri": "https://localhost:8080/"
        }
      },
      "execution_count": null,
      "outputs": [
        {
          "output_type": "stream",
          "name": "stderr",
          "text": [
            "Some weights of the model checkpoint at bert-base-chinese were not used when initializing BertForSequenceClassification: ['cls.predictions.transform.LayerNorm.weight', 'cls.seq_relationship.bias', 'cls.seq_relationship.weight', 'cls.predictions.transform.dense.bias', 'cls.predictions.transform.LayerNorm.bias', 'cls.predictions.bias', 'cls.predictions.transform.dense.weight']\n",
            "- This IS expected if you are initializing BertForSequenceClassification from the checkpoint of a model trained on another task or with another architecture (e.g. initializing a BertForSequenceClassification model from a BertForPreTraining model).\n",
            "- This IS NOT expected if you are initializing BertForSequenceClassification from the checkpoint of a model that you expect to be exactly identical (initializing a BertForSequenceClassification model from a BertForSequenceClassification model).\n",
            "Some weights of BertForSequenceClassification were not initialized from the model checkpoint at bert-base-chinese and are newly initialized: ['classifier.weight', 'classifier.bias']\n",
            "You should probably TRAIN this model on a down-stream task to be able to use it for predictions and inference.\n"
          ]
        },
        {
          "output_type": "stream",
          "name": "stdout",
          "text": [
            "tensor([[-0.0392, -0.7188],\n",
            "        [ 0.0293, -0.4774],\n",
            "        [-0.7877, -0.4168]], grad_fn=<AddmmBackward0>)\n",
            "tensor([[0.6637, 0.3363],\n",
            "        [0.6240, 0.3760],\n",
            "        [0.4083, 0.5917]], grad_fn=<SoftmaxBackward0>)\n"
          ]
        },
        {
          "output_type": "stream",
          "name": "stderr",
          "text": [
            "<ipython-input-20-00398b5966cf>:18: UserWarning: Implicit dimension choice for softmax has been deprecated. Change the call to include dim=X as an argument.\n",
            "  results=torch.nn.functional.softmax(output.logits)\n"
          ]
        }
      ]
    },
    {
      "cell_type": "code",
      "execution_count": null,
      "metadata": {
        "id": "HMhO0IzpBpmh",
        "outputId": "4b7e6592-e07b-4ef7-e0ad-12beec9ecf95",
        "colab": {
          "base_uri": "https://localhost:8080/"
        }
      },
      "outputs": [
        {
          "output_type": "stream",
          "name": "stdout",
          "text": [
            "tensor([[-1.5607,  1.6123],\n",
            "        [-3.6183,  3.9137]], grad_fn=<AddmmBackward0>)\n"
          ]
        }
      ],
      "source": [
        "import torch\n",
        "from transformers import AutoTokenizer, AutoModelForSequenceClassification\n",
        "\n",
        "checkpoint = \"distilbert-base-uncased-finetuned-sst-2-english\"\n",
        "tokenizer = AutoTokenizer.from_pretrained(checkpoint)\n",
        "model = AutoModelForSequenceClassification.from_pretrained(checkpoint)\n",
        "sequences = [\"I've been waiting for a HuggingFace course my whole life.\", \"So have I!\"]\n",
        "\n",
        "tokens = tokenizer(sequences, padding=True, truncation=True, return_tensors=\"pt\")\n",
        "output = model(**tokens)\n",
        "\n",
        "print(output.logits)"
      ]
    },
    {
      "cell_type": "code",
      "source": [],
      "metadata": {
        "id": "nLx4xFnRSPIi"
      },
      "execution_count": null,
      "outputs": []
    }
  ],
  "metadata": {
    "colab": {
      "provenance": [],
      "include_colab_link": true
    },
    "language_info": {
      "name": "python"
    },
    "kernelspec": {
      "name": "python3",
      "display_name": "Python 3"
    }
  },
  "nbformat": 4,
  "nbformat_minor": 0
}