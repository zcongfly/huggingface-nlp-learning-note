{
  "cells": [
    {
      "cell_type": "markdown",
      "metadata": {
        "id": "view-in-github",
        "colab_type": "text"
      },
      "source": [
        "<a href=\"https://colab.research.google.com/github/zcongfly/huggingface-nlp-learning-note/blob/main/04_Tokenizers_(PyTorch).ipynb\" target=\"_parent\"><img src=\"https://colab.research.google.com/assets/colab-badge.svg\" alt=\"Open In Colab\"/></a>"
      ]
    },
    {
      "cell_type": "markdown",
      "metadata": {
        "id": "a9gCh_4ZzK8W"
      },
      "source": [
        "# Tokenizers (PyTorch)"
      ]
    },
    {
      "cell_type": "markdown",
      "metadata": {
        "id": "DmMy7oYpzK8Z"
      },
      "source": [
        "\n",
        "Install the Transformers, Datasets, and Evaluate libraries to run this notebook.\n",
        "\n",
        "分词器是 NLP pipeline的核心组件之一。它们服务于一个目的：将文本转换为模型可以处理的数据。模型只能处理数字，因此分词器需要将我们的文本输入转换为数字数据。在本节中，我们将探索标记化管道中到底发生了什么。\n",
        "\n",
        "在 NLP 任务中，一般处理的数据都是原始文本。然而，模型只能处理数字，所以我们需要找到一种方法将原始文本转换为数字。这就是标记器所做的，并且有很多方法可以解决这个问题。目标是找到最有意义的表示——即对模型最有意义的表示——如果可能的话，找到最小的表示。\n",
        "\n",
        "让我们看一下标记化算法的一些示例，并尝试回答您可能对标记化提出的一些问题。"
      ]
    },
    {
      "cell_type": "code",
      "execution_count": null,
      "metadata": {
        "id": "JU1s75cmzK8a"
      },
      "outputs": [],
      "source": [
        "!pip install datasets evaluate transformers[sentencepiece]"
      ]
    },
    {
      "cell_type": "markdown",
      "source": [
        "## Word-based基于单词\n",
        "\n",
        "想到的第一种分词器是基于单词的。通常只需几条规则就可以很容易地设置和使用，而且通常会产生不错的结果。例如，在下图中，目标是将原始文本拆分为单词并为每个单词找到一个数字表示：\n",
        "\n",
        "![](https://huggingface.co/datasets/huggingface-course/documentation-images/resolve/main/en/chapter2/word_based_tokenization.svg)\n",
        "\n",
        "有多种拆分文本的方法。例如，我们可以通过应用 Python 的 split() 函数，使用空格将文本标记为单词："
      ],
      "metadata": {
        "id": "3Y5AVIzFND_7"
      }
    },
    {
      "cell_type": "code",
      "execution_count": null,
      "metadata": {
        "id": "IWs9ANWdzK8c",
        "outputId": "06dab8ee-f0d7-481c-ac29-9b2125d5cd62",
        "colab": {
          "base_uri": "https://localhost:8080/"
        }
      },
      "outputs": [
        {
          "output_type": "stream",
          "name": "stdout",
          "text": [
            "['Jim', 'Henson', 'was', 'a', 'puppeteer']\n"
          ]
        }
      ],
      "source": [
        "tokenized_text = \"Jim Henson was a puppeteer\".split()\n",
        "print(tokenized_text)"
      ]
    },
    {
      "cell_type": "markdown",
      "source": [
        "还有一些词分词器的变体，它们有额外的标点符号规则。使用这种分词器，我们最终可以得到一些相当大的“词汇表”，其中词汇表由我们在语料库中拥有的独立标记的总数定义。\n",
        "\n",
        "每个单词都会分配一个 ID，从 0 开始，一直到词汇表的大小。该模型使用这些 ID 来识别每个单词。\n",
        "\n",
        "如果我们想用基于单词的分词器完全覆盖一种语言，我们需要为该语言中的每个单词都有一个标识符，这将生成大量的分词。例如，英语中有超过 500,000 个单词，因此要构建从每个单词到输入 ID 的映射，我们需要跟踪那么多的 ID。此外，像“dog”这样的词与“dogs”这样的词的表示方式不同，模型最初无法知道“dog”和“dogs”是相似的：它将这两个词识别为不相关。这同样适用于其他类似的词，如“run”和“running”，模型最初不会认为它们相似。\n",
        "\n",
        "最后，我们需要一个自定义标记来表示不在我们词汇表中的单词。这被称为“未知”令牌，通常表示为“[UNK]”或“”。如果您看到分词器生成了很多这样的分词，这通常是一个不好的迹象，因为它无法检索一个词的合理表示，并且您在这个过程中正在丢失信息。构建词汇表的目的是让分词器将尽可能少的词分词为未知词。\n",
        "\n",
        "减少未知标记数量的一种方法是更深入一层，使用**基于字符的标记器**。"
      ],
      "metadata": {
        "id": "PYTKgt4PN1IT"
      }
    },
    {
      "cell_type": "markdown",
      "source": [
        "## Character-based 基于字符\n",
        "\n",
        "基于字符的标记器将文本拆分为字符，而不是单词。这有两个主要好处：\n",
        "\n",
        "* 词汇量要小得多。\n",
        "* 词汇外（未知）标记要少得多，因为每个单词都可以从字符构建。\n",
        "\n",
        "但这里也出现了一些关于空格和标点符号的问题：\n",
        "\n",
        "![](https://huggingface.co/datasets/huggingface-course/documentation-images/resolve/main/en/chapter2/character_based_tokenization.svg)\n",
        "\n",
        "这种方法也不完美。由于现在的表示是基于字符而不是单词，人们可能会说，从直觉上讲，它的意义不大：每个字符本身并不意味着很多，而单词就是这种情况。但是，这又因语言而异。例如，在中文中，每个字符比拉丁语中的一个字符包含更多信息。\n",
        "\n",
        "另一件需要考虑的事情是，我们最终会得到大量的标记要由我们的模型处理：而一个单词对于基于单词的分词器来说只是一个标记，它可以很容易地变成 10 个或更多标记转换为字符时。\n",
        "\n",
        "为了两全其美，我们可以使用结合这两种方法的第三种技术：子词标记化。"
      ],
      "metadata": {
        "id": "L3m-iEUpOOAj"
      }
    },
    {
      "cell_type": "markdown",
      "source": [
        "## Subword tokenization 子词分词\n",
        "\n",
        "子词标记化算法依赖于频繁使用的词不应该被拆分成更小的子词的原则，但是不常见的词应该被分解成有意义的子词。\n",
        "\n",
        "例如，“annoyingly”可能被认为是一个稀有词，可以分解为“annoyingly”和“ly”。这些都可能更频繁地作为独立子词出现，而同时“annoying”和“ly”的复合含义保留了“annoyingly”的含义。\n",
        "\n",
        "下面是一个示例，展示了子词标记化算法如何标记序列“让我们进行标记化！”：\n",
        "\n",
        "![](https://huggingface.co/datasets/huggingface-course/documentation-images/resolve/main/en/chapter2/bpe_subword.svg)\n",
        "\n",
        "这些子词最终提供了很多语义：例如，在上面的示例中，“tokenization”被拆分为“token”和“ization”，这两个标记具有语义意义的同时具有空间效率（只需要两个标记代表一个长词）。这使得我们能够使用较小的词汇表获得相对较好的覆盖率，并且几乎没有位置标记。\n",
        "\n",
        "这种方法在诸如土耳其语的凝集语言中特别有用，在这种语言中，您可以通过将子词串在一起来形成（几乎）任意长的复杂单词。"
      ],
      "metadata": {
        "id": "unDLeJh6PKSU"
      }
    },
    {
      "cell_type": "markdown",
      "source": [
        "## And more!\n",
        "\n",
        "还有更多的技术。举几个例子：\n",
        "\n",
        "* GPT-2 中使用的字节级 BPE\n",
        "* WordPiece，用于 BERT\n",
        "* SentencePiece 或 Unigram，用于多种多语言模型"
      ],
      "metadata": {
        "id": "jg7Xo5FGRuql"
      }
    },
    {
      "cell_type": "markdown",
      "source": [
        "## Loading and saving 加载和保存\n",
        "\n",
        "加载和保存标记器与模型一样简单。实际上，它基于相同的两个方法： from_pretrained() 和 save_pretrained() 。这些方法将加载或保存分词器使用的算法（有点像模型的架构）及其词汇表（有点像模型的权重）。\n",
        "\n",
        "加载使用与 BERT 相同的检查点训练的 BERT 分词器与加载模型的方式相同，我们使用 BertTokenizer 类："
      ],
      "metadata": {
        "id": "ywZA1nZ4SBot"
      }
    },
    {
      "cell_type": "code",
      "execution_count": null,
      "metadata": {
        "id": "tCUrTFOWzK8d"
      },
      "outputs": [],
      "source": [
        "from  transformers import BertTokenizer\n",
        "\n",
        "tokenizer=BertTokenizer.from_pretrained(\"bert-base-cased\")"
      ]
    },
    {
      "cell_type": "markdown",
      "source": [
        "与 AutoModel 类似， AutoTokenizer 类将根据检查点名称在库中获取适当的分词器类，并且可以直接与任何检查点一起使用："
      ],
      "metadata": {
        "id": "B10QhsR1SrH0"
      }
    },
    {
      "cell_type": "code",
      "execution_count": null,
      "metadata": {
        "id": "bxSh4EKazK8f",
        "outputId": "cc18edef-3e78-4ba0-d342-021940e17f58",
        "colab": {
          "base_uri": "https://localhost:8080/",
          "height": 77,
          "referenced_widgets": [
            "dbce21723ed44a049b27c4fcf14a38d8",
            "cf878306f6844bf781f1beb946f93dc8",
            "a40ac8bee56d421cabe1fb8acb2d7516",
            "5e1acd5082a74d7ab44dc2cdb34efdf1",
            "e3c262505c4d46e7a8f630a31336a5e9",
            "3a9d80b8cb12483e8ad3ac7ac964b392",
            "f16e417608144cf3ab31466c07446b88",
            "7e9b139890ce44009a923ecf51b9d6f5",
            "511aa3aa09894857975ff25099afc17f",
            "cb0c3e798dc74e459e857982f6d3cffc",
            "2e800577b6f94433b2aca77adae6e1d2"
          ]
        }
      },
      "outputs": [
        {
          "output_type": "display_data",
          "data": {
            "text/plain": [
              "Downloading (…)/main/tokenizer.json:   0%|          | 0.00/436k [00:00<?, ?B/s]"
            ],
            "application/vnd.jupyter.widget-view+json": {
              "version_major": 2,
              "version_minor": 0,
              "model_id": "dbce21723ed44a049b27c4fcf14a38d8"
            }
          },
          "metadata": {}
        }
      ],
      "source": [
        "from transformers import AutoTokenizer\n",
        "\n",
        "tokenizer = AutoTokenizer.from_pretrained(\"bert-base-cased\")"
      ]
    },
    {
      "cell_type": "code",
      "execution_count": null,
      "metadata": {
        "id": "hxJK_vlCzK8g",
        "outputId": "4451e6ea-8719-4721-9533-7544c0fc9bb0",
        "colab": {
          "base_uri": "https://localhost:8080/"
        }
      },
      "outputs": [
        {
          "output_type": "execute_result",
          "data": {
            "text/plain": [
              "{'input_ids': [101, 7993, 170, 13809, 23763, 2443, 1110, 3014, 102], 'token_type_ids': [0, 0, 0, 0, 0, 0, 0, 0, 0], 'attention_mask': [1, 1, 1, 1, 1, 1, 1, 1, 1]}"
            ]
          },
          "metadata": {},
          "execution_count": 6
        }
      ],
      "source": [
        "tokenizer(\"Using a Transformer network is simple\")"
      ]
    },
    {
      "cell_type": "markdown",
      "source": [
        "保存分词器与保存模型相同："
      ],
      "metadata": {
        "id": "UqWp6mS3UKht"
      }
    },
    {
      "cell_type": "code",
      "execution_count": null,
      "metadata": {
        "id": "4jkgfmtxzK8h",
        "outputId": "bb6b9312-5bfd-4fc3-f762-979be10493e6",
        "colab": {
          "base_uri": "https://localhost:8080/"
        }
      },
      "outputs": [
        {
          "output_type": "execute_result",
          "data": {
            "text/plain": [
              "('directory_on_my_computer/tokenizer_config.json',\n",
              " 'directory_on_my_computer/special_tokens_map.json',\n",
              " 'directory_on_my_computer/vocab.txt',\n",
              " 'directory_on_my_computer/added_tokens.json',\n",
              " 'directory_on_my_computer/tokenizer.json')"
            ]
          },
          "metadata": {},
          "execution_count": 7
        }
      ],
      "source": [
        "tokenizer.save_pretrained(\"directory_on_my_computer\")"
      ]
    },
    {
      "cell_type": "markdown",
      "source": [
        "我们将在第 3 章详细讨论 token_type_ids ，稍后我们将解释 attention_mask 键。首先，让我们看看 input_ids 是如何生成的。为此，我们需要查看分词器的中间方法。"
      ],
      "metadata": {
        "id": "2mzN4PasUmbV"
      }
    },
    {
      "cell_type": "markdown",
      "source": [
        "## Encoding 编码\n",
        "\n",
        "将文本转换为数字称为编码。编码分两步完成：标记化，然后转换为输入 ID。\n",
        "\n",
        "正如我们所见，第一步是将文本拆分为单词（或单词的一部分、标点符号等），通常称为标记。有多个规则可以管理该过程，这就是为什么我们需要使用模型名称实例化分词器，以确保我们使用与预训练模型时相同的规则。\n",
        "\n",
        "第二步是将这些标记转换成数字，这样我们就可以用它们构建一个张量并将它们提供给模型。为此，tokenizer 有一个词汇表，这是我们使用 from_pretrained() 方法实例化它时下载的部分。同样，我们需要使用与预训练模型时相同的词汇表。\n",
        "\n",
        "为了更好地理解这两个步骤，我们将分别探讨它们。请注意，我们将使用一些方法分别执行部分标记化管道，以向您展示这些步骤的中间结果，但实际上，您应该直接在输入上调用标记器（如第 2 节所示）。"
      ],
      "metadata": {
        "id": "tXA2BWHvWPEX"
      }
    },
    {
      "cell_type": "markdown",
      "source": [
        "## Tokenization\n",
        "\n",
        "分词过程由分词器的 tokenize() 方法完成,此方法的输出是字符串列表或标记："
      ],
      "metadata": {
        "id": "c-pABKMBWzf-"
      }
    },
    {
      "cell_type": "code",
      "execution_count": null,
      "metadata": {
        "id": "mac7Z7yizK8i",
        "outputId": "f1e989d3-16c2-46d5-cec6-6ad8ed46ee00",
        "colab": {
          "base_uri": "https://localhost:8080/"
        }
      },
      "outputs": [
        {
          "output_type": "stream",
          "name": "stdout",
          "text": [
            "['Using', 'a', 'Trans', '##former', 'network', 'is', 'simple']\n"
          ]
        }
      ],
      "source": [
        "from transformers import AutoTokenizer\n",
        "\n",
        "tokenizer=AutoTokenizer.from_pretrained(\"bert-base-cased\")\n",
        "\n",
        "sequence=\"Using a Transformer network is simple\"\n",
        "tokens=tokenizer.tokenize(sequence)\n",
        "\n",
        "print(tokens)"
      ]
    },
    {
      "cell_type": "markdown",
      "source": [
        "这个分词器是一个子词分词器：它拆分单词直到它获得可以用其词汇表表示的标记。 transformer 就是这种情况，它被分成两个标记： transform 和 ##er 。"
      ],
      "metadata": {
        "id": "qErkyadoYKEh"
      }
    },
    {
      "cell_type": "markdown",
      "source": [
        "## From tokens to input IDs\n",
        "\n",
        "到输入 ID 的转换由 convert_tokens_to_ids() tokenizer 方法处理："
      ],
      "metadata": {
        "id": "ZnjwpGsfYih-"
      }
    },
    {
      "cell_type": "code",
      "execution_count": null,
      "metadata": {
        "id": "dgggsblczK8j",
        "outputId": "11add2b3-2932-4d23-f3e7-f062b089b714",
        "colab": {
          "base_uri": "https://localhost:8080/"
        }
      },
      "outputs": [
        {
          "output_type": "stream",
          "name": "stdout",
          "text": [
            "[7993, 170, 13809, 23763, 2443, 1110, 3014]\n"
          ]
        }
      ],
      "source": [
        "ids = tokenizer.convert_tokens_to_ids(tokens)\n",
        "print(ids)"
      ]
    },
    {
      "cell_type": "markdown",
      "source": [
        "这些输出一旦转换为适当的框架张量，就可以用作本章前面所见模型的输入。"
      ],
      "metadata": {
        "id": "NUZKM0KiY_Ll"
      }
    },
    {
      "cell_type": "code",
      "execution_count": null,
      "metadata": {
        "id": "GCd5Nu-PzK8k",
        "outputId": "170ab6bd-c046-4945-f861-370dee3c47f7",
        "colab": {
          "base_uri": "https://localhost:8080/"
        }
      },
      "outputs": [
        {
          "output_type": "stream",
          "name": "stdout",
          "text": [
            "Using a Transformer network is simple\n"
          ]
        }
      ],
      "source": [
        "decoded_string = tokenizer.decode([7993, 170, 13809, 23763, 2443, 1110, 3014])\n",
        "print(decoded_string)"
      ]
    },
    {
      "cell_type": "markdown",
      "source": [
        "请注意，decode方法不仅将索引转换回标记，而且还将属于同一单词的标记组合在一起以生成可读的句子。当我们使用预测新闻本的模型（从提示生成的文本，或者用于翻译或摘要等序列到序列问题）时，这种行为将非常有用。\n",
        "\n",
        "到目前为止，您应该了解标记器可以处理的原子操作：标记化、转换为 ID 以及将 ID 转换回字符串。然而，我们只是触及了冰山一角。在下一节中，我们将把我们的方法带到它的极限并看看如何克服它们。"
      ],
      "metadata": {
        "id": "1Zd4c_7qZdCt"
      }
    },
    {
      "cell_type": "code",
      "source": [
        "from transformers import AutoTokenizer\n",
        "\n",
        "checkpoint=\"bert-base-chinese\"\n",
        "tokenizer=AutoTokenizer.from_pretrained(checkpoint)\n",
        "\n",
        "sequences=[\n",
        "    \"我的双北永不BE！\",\n",
        "    \"后来我才明白，有主见，是对我而言最高的评价。\"\n",
        "]\n",
        "tokens=tokenizer.tokenize(sequences)\n",
        "\n",
        "print(tokens)"
      ],
      "metadata": {
        "id": "Ra-HxXffZ86O",
        "outputId": "7b146394-72cd-4998-dd79-cbe69bc36305",
        "colab": {
          "base_uri": "https://localhost:8080/"
        }
      },
      "execution_count": null,
      "outputs": [
        {
          "output_type": "stream",
          "name": "stdout",
          "text": [
            "['我', '的', '双', '北', '永', '不', '[UNK]', '！', '后', '来', '我', '才', '明', '白', '，', '有', '主', '见', '，', '是', '对', '我', '而', '言', '最', '高', '的', '评', '价', '。']\n"
          ]
        }
      ]
    },
    {
      "cell_type": "code",
      "source": [],
      "metadata": {
        "id": "gkLUFmDHb3B5"
      },
      "execution_count": null,
      "outputs": []
    }
  ],
  "metadata": {
    "colab": {
      "provenance": [],
      "toc_visible": true,
      "include_colab_link": true
    },
    "language_info": {
      "name": "python"
    },
    "kernelspec": {
      "name": "python3",
      "display_name": "Python 3"
    },
    "widgets": {
      "application/vnd.jupyter.widget-state+json": {
        "dbce21723ed44a049b27c4fcf14a38d8": {
          "model_module": "@jupyter-widgets/controls",
          "model_name": "HBoxModel",
          "model_module_version": "1.5.0",
          "state": {
            "_dom_classes": [],
            "_model_module": "@jupyter-widgets/controls",
            "_model_module_version": "1.5.0",
            "_model_name": "HBoxModel",
            "_view_count": null,
            "_view_module": "@jupyter-widgets/controls",
            "_view_module_version": "1.5.0",
            "_view_name": "HBoxView",
            "box_style": "",
            "children": [
              "IPY_MODEL_cf878306f6844bf781f1beb946f93dc8",
              "IPY_MODEL_a40ac8bee56d421cabe1fb8acb2d7516",
              "IPY_MODEL_5e1acd5082a74d7ab44dc2cdb34efdf1"
            ],
            "layout": "IPY_MODEL_e3c262505c4d46e7a8f630a31336a5e9"
          }
        },
        "cf878306f6844bf781f1beb946f93dc8": {
          "model_module": "@jupyter-widgets/controls",
          "model_name": "HTMLModel",
          "model_module_version": "1.5.0",
          "state": {
            "_dom_classes": [],
            "_model_module": "@jupyter-widgets/controls",
            "_model_module_version": "1.5.0",
            "_model_name": "HTMLModel",
            "_view_count": null,
            "_view_module": "@jupyter-widgets/controls",
            "_view_module_version": "1.5.0",
            "_view_name": "HTMLView",
            "description": "",
            "description_tooltip": null,
            "layout": "IPY_MODEL_3a9d80b8cb12483e8ad3ac7ac964b392",
            "placeholder": "​",
            "style": "IPY_MODEL_f16e417608144cf3ab31466c07446b88",
            "value": "Downloading (…)/main/tokenizer.json: 100%"
          }
        },
        "a40ac8bee56d421cabe1fb8acb2d7516": {
          "model_module": "@jupyter-widgets/controls",
          "model_name": "FloatProgressModel",
          "model_module_version": "1.5.0",
          "state": {
            "_dom_classes": [],
            "_model_module": "@jupyter-widgets/controls",
            "_model_module_version": "1.5.0",
            "_model_name": "FloatProgressModel",
            "_view_count": null,
            "_view_module": "@jupyter-widgets/controls",
            "_view_module_version": "1.5.0",
            "_view_name": "ProgressView",
            "bar_style": "success",
            "description": "",
            "description_tooltip": null,
            "layout": "IPY_MODEL_7e9b139890ce44009a923ecf51b9d6f5",
            "max": 435797,
            "min": 0,
            "orientation": "horizontal",
            "style": "IPY_MODEL_511aa3aa09894857975ff25099afc17f",
            "value": 435797
          }
        },
        "5e1acd5082a74d7ab44dc2cdb34efdf1": {
          "model_module": "@jupyter-widgets/controls",
          "model_name": "HTMLModel",
          "model_module_version": "1.5.0",
          "state": {
            "_dom_classes": [],
            "_model_module": "@jupyter-widgets/controls",
            "_model_module_version": "1.5.0",
            "_model_name": "HTMLModel",
            "_view_count": null,
            "_view_module": "@jupyter-widgets/controls",
            "_view_module_version": "1.5.0",
            "_view_name": "HTMLView",
            "description": "",
            "description_tooltip": null,
            "layout": "IPY_MODEL_cb0c3e798dc74e459e857982f6d3cffc",
            "placeholder": "​",
            "style": "IPY_MODEL_2e800577b6f94433b2aca77adae6e1d2",
            "value": " 436k/436k [00:00&lt;00:00, 14.6MB/s]"
          }
        },
        "e3c262505c4d46e7a8f630a31336a5e9": {
          "model_module": "@jupyter-widgets/base",
          "model_name": "LayoutModel",
          "model_module_version": "1.2.0",
          "state": {
            "_model_module": "@jupyter-widgets/base",
            "_model_module_version": "1.2.0",
            "_model_name": "LayoutModel",
            "_view_count": null,
            "_view_module": "@jupyter-widgets/base",
            "_view_module_version": "1.2.0",
            "_view_name": "LayoutView",
            "align_content": null,
            "align_items": null,
            "align_self": null,
            "border": null,
            "bottom": null,
            "display": null,
            "flex": null,
            "flex_flow": null,
            "grid_area": null,
            "grid_auto_columns": null,
            "grid_auto_flow": null,
            "grid_auto_rows": null,
            "grid_column": null,
            "grid_gap": null,
            "grid_row": null,
            "grid_template_areas": null,
            "grid_template_columns": null,
            "grid_template_rows": null,
            "height": null,
            "justify_content": null,
            "justify_items": null,
            "left": null,
            "margin": null,
            "max_height": null,
            "max_width": null,
            "min_height": null,
            "min_width": null,
            "object_fit": null,
            "object_position": null,
            "order": null,
            "overflow": null,
            "overflow_x": null,
            "overflow_y": null,
            "padding": null,
            "right": null,
            "top": null,
            "visibility": null,
            "width": null
          }
        },
        "3a9d80b8cb12483e8ad3ac7ac964b392": {
          "model_module": "@jupyter-widgets/base",
          "model_name": "LayoutModel",
          "model_module_version": "1.2.0",
          "state": {
            "_model_module": "@jupyter-widgets/base",
            "_model_module_version": "1.2.0",
            "_model_name": "LayoutModel",
            "_view_count": null,
            "_view_module": "@jupyter-widgets/base",
            "_view_module_version": "1.2.0",
            "_view_name": "LayoutView",
            "align_content": null,
            "align_items": null,
            "align_self": null,
            "border": null,
            "bottom": null,
            "display": null,
            "flex": null,
            "flex_flow": null,
            "grid_area": null,
            "grid_auto_columns": null,
            "grid_auto_flow": null,
            "grid_auto_rows": null,
            "grid_column": null,
            "grid_gap": null,
            "grid_row": null,
            "grid_template_areas": null,
            "grid_template_columns": null,
            "grid_template_rows": null,
            "height": null,
            "justify_content": null,
            "justify_items": null,
            "left": null,
            "margin": null,
            "max_height": null,
            "max_width": null,
            "min_height": null,
            "min_width": null,
            "object_fit": null,
            "object_position": null,
            "order": null,
            "overflow": null,
            "overflow_x": null,
            "overflow_y": null,
            "padding": null,
            "right": null,
            "top": null,
            "visibility": null,
            "width": null
          }
        },
        "f16e417608144cf3ab31466c07446b88": {
          "model_module": "@jupyter-widgets/controls",
          "model_name": "DescriptionStyleModel",
          "model_module_version": "1.5.0",
          "state": {
            "_model_module": "@jupyter-widgets/controls",
            "_model_module_version": "1.5.0",
            "_model_name": "DescriptionStyleModel",
            "_view_count": null,
            "_view_module": "@jupyter-widgets/base",
            "_view_module_version": "1.2.0",
            "_view_name": "StyleView",
            "description_width": ""
          }
        },
        "7e9b139890ce44009a923ecf51b9d6f5": {
          "model_module": "@jupyter-widgets/base",
          "model_name": "LayoutModel",
          "model_module_version": "1.2.0",
          "state": {
            "_model_module": "@jupyter-widgets/base",
            "_model_module_version": "1.2.0",
            "_model_name": "LayoutModel",
            "_view_count": null,
            "_view_module": "@jupyter-widgets/base",
            "_view_module_version": "1.2.0",
            "_view_name": "LayoutView",
            "align_content": null,
            "align_items": null,
            "align_self": null,
            "border": null,
            "bottom": null,
            "display": null,
            "flex": null,
            "flex_flow": null,
            "grid_area": null,
            "grid_auto_columns": null,
            "grid_auto_flow": null,
            "grid_auto_rows": null,
            "grid_column": null,
            "grid_gap": null,
            "grid_row": null,
            "grid_template_areas": null,
            "grid_template_columns": null,
            "grid_template_rows": null,
            "height": null,
            "justify_content": null,
            "justify_items": null,
            "left": null,
            "margin": null,
            "max_height": null,
            "max_width": null,
            "min_height": null,
            "min_width": null,
            "object_fit": null,
            "object_position": null,
            "order": null,
            "overflow": null,
            "overflow_x": null,
            "overflow_y": null,
            "padding": null,
            "right": null,
            "top": null,
            "visibility": null,
            "width": null
          }
        },
        "511aa3aa09894857975ff25099afc17f": {
          "model_module": "@jupyter-widgets/controls",
          "model_name": "ProgressStyleModel",
          "model_module_version": "1.5.0",
          "state": {
            "_model_module": "@jupyter-widgets/controls",
            "_model_module_version": "1.5.0",
            "_model_name": "ProgressStyleModel",
            "_view_count": null,
            "_view_module": "@jupyter-widgets/base",
            "_view_module_version": "1.2.0",
            "_view_name": "StyleView",
            "bar_color": null,
            "description_width": ""
          }
        },
        "cb0c3e798dc74e459e857982f6d3cffc": {
          "model_module": "@jupyter-widgets/base",
          "model_name": "LayoutModel",
          "model_module_version": "1.2.0",
          "state": {
            "_model_module": "@jupyter-widgets/base",
            "_model_module_version": "1.2.0",
            "_model_name": "LayoutModel",
            "_view_count": null,
            "_view_module": "@jupyter-widgets/base",
            "_view_module_version": "1.2.0",
            "_view_name": "LayoutView",
            "align_content": null,
            "align_items": null,
            "align_self": null,
            "border": null,
            "bottom": null,
            "display": null,
            "flex": null,
            "flex_flow": null,
            "grid_area": null,
            "grid_auto_columns": null,
            "grid_auto_flow": null,
            "grid_auto_rows": null,
            "grid_column": null,
            "grid_gap": null,
            "grid_row": null,
            "grid_template_areas": null,
            "grid_template_columns": null,
            "grid_template_rows": null,
            "height": null,
            "justify_content": null,
            "justify_items": null,
            "left": null,
            "margin": null,
            "max_height": null,
            "max_width": null,
            "min_height": null,
            "min_width": null,
            "object_fit": null,
            "object_position": null,
            "order": null,
            "overflow": null,
            "overflow_x": null,
            "overflow_y": null,
            "padding": null,
            "right": null,
            "top": null,
            "visibility": null,
            "width": null
          }
        },
        "2e800577b6f94433b2aca77adae6e1d2": {
          "model_module": "@jupyter-widgets/controls",
          "model_name": "DescriptionStyleModel",
          "model_module_version": "1.5.0",
          "state": {
            "_model_module": "@jupyter-widgets/controls",
            "_model_module_version": "1.5.0",
            "_model_name": "DescriptionStyleModel",
            "_view_count": null,
            "_view_module": "@jupyter-widgets/base",
            "_view_module_version": "1.2.0",
            "_view_name": "StyleView",
            "description_width": ""
          }
        }
      }
    }
  },
  "nbformat": 4,
  "nbformat_minor": 0
}